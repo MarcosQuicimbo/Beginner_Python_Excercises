{
 "cells": [
  {
   "cell_type": "markdown",
   "metadata": {},
   "source": [
    "# Python Basic Exercise for Beginners"
   ]
  },
  {
   "cell_type": "markdown",
   "metadata": {},
   "source": [
    "### Exercise 1: Calculate the multiplication and sum of two numbers\n",
    "Given two integer numbers, return their product only if the product is equal to or lower than 1000. Otherwise, return their sum."
   ]
  },
  {
   "cell_type": "code",
   "execution_count": 8,
   "metadata": {},
   "outputs": [
    {
     "name": "stdout",
     "output_type": "stream",
     "text": [
      "The result is:  600\n",
      "The result is:  70\n"
     ]
    }
   ],
   "source": [
    "def product_sum (number1, number2):\n",
    "    # calclate the product of two numbers \n",
    "    product = number1 * number2\n",
    "    # check of product is less then 1000\n",
    "    if product <= 1000:\n",
    "        return product\n",
    "    else: \n",
    "        # product is greate than 1000 calculate sum \n",
    "        return number1 + number2\n",
    "\n",
    "# Fist condition \n",
    "result = product_sum(20,30)\n",
    "print(\"The result is: \", result)\n",
    "\n",
    "# Second condition \n",
    "result = product_sum(40,30)\n",
    "print(\"The result is: \", result)"
   ]
  },
  {
   "cell_type": "markdown",
   "metadata": {},
   "source": [
    "### Exercise 2: Print the sum of the current number and the previous number\n",
    "Write a program to iterate the first 10 numbers, and in each iteration, print the sum of the current and previous number."
   ]
  },
  {
   "cell_type": "code",
   "execution_count": 6,
   "metadata": {},
   "outputs": [
    {
     "name": "stdout",
     "output_type": "stream",
     "text": [
      "Current Number 0 Previous Number  0 Sum:  0\n",
      "Current Number 1 Previous Number  0 Sum:  1\n",
      "Current Number 2 Previous Number  1 Sum:  3\n",
      "Current Number 3 Previous Number  2 Sum:  5\n",
      "Current Number 4 Previous Number  3 Sum:  7\n",
      "Current Number 5 Previous Number  4 Sum:  9\n",
      "Current Number 6 Previous Number  5 Sum:  11\n",
      "Current Number 7 Previous Number  6 Sum:  13\n",
      "Current Number 8 Previous Number  7 Sum:  15\n",
      "Current Number 9 Previous Number  8 Sum:  17\n"
     ]
    }
   ],
   "source": [
    "def sum_curren_previous_number(number_range):\n",
    "    for i in range(number_range):\n",
    "        #current_number = i \n",
    "        previous_number = i - 1 \n",
    "        if i == 0:\n",
    "            previous_number = 0 \n",
    "        print(\"Current Number\", i, \"Previous Number \",  previous_number, \"Sum: \", i + previous_number)\n",
    "\n",
    "sum_curren_previous_number(10)"
   ]
  },
  {
   "cell_type": "markdown",
   "metadata": {},
   "source": [
    "### Exercise 3: Print characters from a string that are present at an even index number\n",
    "Write a program to accept a string from the user and display characters that are present at an even index number."
   ]
  },
  {
   "cell_type": "code",
   "execution_count": 7,
   "metadata": {},
   "outputs": [
    {
     "data": {
      "text/plain": [
       "['m', 'r', 'o']"
      ]
     },
     "execution_count": 7,
     "metadata": {},
     "output_type": "execute_result"
    }
   ],
   "source": [
    "def print_characters(): \n",
    "    string = input(\"Enter a string\")\n",
    "    arreglo = []\n",
    "    for index, value in enumerate(string): \n",
    "        #arreglo = arreglo.append(i)\n",
    "        if index % 2 == 0:\n",
    "            arreglo.append(value)\n",
    "    #print(arreglo[0])\n",
    "    return arreglo\n",
    "print_characters()\n"
   ]
  },
  {
   "cell_type": "code",
   "execution_count": 9,
   "metadata": {},
   "outputs": [
    {
     "data": {
      "text/plain": [
       "['m', 'r', 'o']"
      ]
     },
     "execution_count": 9,
     "metadata": {},
     "output_type": "execute_result"
    }
   ],
   "source": [
    "def print_characters(): \n",
    "    string = input(\"Enter a string\")\n",
    "    arreglo = []\n",
    "    for i in range(len(string)):\n",
    "        if i % 2 == 0:\n",
    "            arreglo.append(string[i])\n",
    "    #print(arreglo[0])\n",
    "    return arreglo\n",
    "print_characters()\n"
   ]
  },
  {
   "cell_type": "code",
   "execution_count": 10,
   "metadata": {},
   "outputs": [
    {
     "name": "stdout",
     "output_type": "stream",
     "text": [
      "0 m\n",
      "2 r\n",
      "4 o\n"
     ]
    }
   ],
   "source": [
    "def print_characters(): \n",
    "    string = input(\"Enter a string\")\n",
    "    # get the size of string \n",
    "    size = len(string)\n",
    "\n",
    "    for i in range(0, size-1, 2):\n",
    "        print(i, string[i])\n",
    "print_characters()\n"
   ]
  },
  {
   "cell_type": "code",
   "execution_count": 13,
   "metadata": {},
   "outputs": [
    {
     "name": "stdout",
     "output_type": "stream",
     "text": [
      "m\n",
      "r\n",
      "o\n"
     ]
    }
   ],
   "source": [
    "def print_characters(): \n",
    "    string = input(\"Enter a string\")\n",
    "    x = list(string)\n",
    "    for i in x[0::2]:\n",
    "        print(i)\n",
    "print_characters()\n"
   ]
  },
  {
   "cell_type": "markdown",
   "metadata": {},
   "source": [
    "## Exercise 4: Remove first n characters from a string \n",
    "Write a program to remove characters from a string starting from zero up to n and return a new string "
   ]
  },
  {
   "cell_type": "code",
   "execution_count": 17,
   "metadata": {},
   "outputs": [
    {
     "name": "stdout",
     "output_type": "stream",
     "text": [
      "['c', 'o', 'm', 'p', 'u', 't', 'a', 'c', 'i', 'o', 'n']\n",
      "['t', 'a', 'c', 'i', 'o', 'n']\n"
     ]
    }
   ],
   "source": [
    "def remove_chars(word, len_chars_remove):\n",
    "    arreglo = list(word)\n",
    "    print(arreglo)\n",
    "    del arreglo[:len_chars_remove]\n",
    "    print(arreglo)\n",
    "\n",
    "\n",
    "\n",
    "\n",
    "palabra = input(\"Ingrese una palabra\")\n",
    "caracteres_eliminar = int(input(\"Ingrese la cantidad de caracteres a eliminar\"))\n",
    "remove_chars(palabra, caracteres_eliminar)\n"
   ]
  },
  {
   "cell_type": "code",
   "execution_count": 19,
   "metadata": {},
   "outputs": [
    {
     "name": "stdout",
     "output_type": "stream",
     "text": [
      "Original word:  hola\n",
      "New word: la\n"
     ]
    }
   ],
   "source": [
    "def remove_chars(word, n):\n",
    "    print(\"Original word: \", word)\n",
    "    new_word = word[n:]\n",
    "    return new_word\n",
    "\n",
    "print(\"New word:\", remove_chars(\"hola\", 2))"
   ]
  },
  {
   "cell_type": "markdown",
   "metadata": {},
   "source": [
    "## Exercise 5: Check if the first and last number of a list is the same\n",
    "Write a function to return True if the first and last number of a given list is same. If numbers are different then return False.\n",
    "\n"
   ]
  },
  {
   "cell_type": "code",
   "execution_count": 23,
   "metadata": {},
   "outputs": [
    {
     "data": {
      "text/plain": [
       "False"
      ]
     },
     "execution_count": 23,
     "metadata": {},
     "output_type": "execute_result"
    }
   ],
   "source": [
    "#numbers= [10, 20, 30, 40, 10]\n",
    "numbers = [75, 65, 35, 75, 30]\n",
    "\n",
    "\n",
    "def are_the_same(numbers):\n",
    "    bandera = False\n",
    "    if numbers[0] == numbers[-1]:\n",
    "        bandera = True\n",
    "    else:\n",
    "        bandera = False\n",
    "    return bandera\n",
    "\n",
    "\n",
    "are_the_same(numbers)"
   ]
  },
  {
   "cell_type": "code",
   "execution_count": 28,
   "metadata": {},
   "outputs": [
    {
     "name": "stdout",
     "output_type": "stream",
     "text": [
      "Given the list:  [10, 20, 30, 40, 10]\n",
      "Result is :  True\n"
     ]
    }
   ],
   "source": [
    "numbers= [10, 20, 30, 40, 10]\n",
    "#numbers = [75, 65, 35, 75, 30]\n",
    "\n",
    "def are_the_same(numbers):\n",
    "    return numbers[0] == numbers[-1]\n",
    "\n",
    "print(\"Given the list: \", numbers)\n",
    "print(\"Result is : \",are_the_same(numbers))"
   ]
  },
  {
   "cell_type": "markdown",
   "metadata": {},
   "source": [
    "## Exercise 6: Display numbers divisible by 5 from a list\n",
    "Iterate the given list of numbers and print only those numbers which are divisible by 5"
   ]
  },
  {
   "cell_type": "code",
   "execution_count": 4,
   "metadata": {},
   "outputs": [
    {
     "data": {
      "text/plain": [
       "[10, 20, 55]"
      ]
     },
     "execution_count": 4,
     "metadata": {},
     "output_type": "execute_result"
    }
   ],
   "source": [
    "def divisible_by_5(lista):\n",
    "    divisible_numbers = []\n",
    "    for i in lista:\n",
    "        if i % 5 == 0: \n",
    "            divisible_numbers.append(i)\n",
    "    return divisible_numbers\n",
    "\n",
    "lista = [10, 20, 33, 46, 55]\n",
    "divisible_by_5(lista)\n"
   ]
  },
  {
   "cell_type": "markdown",
   "metadata": {},
   "source": [
    "## Exercise 7: Return the count of a given substring from a string\n",
    "Write a program to find how many times substring “Emma” appears in the given string."
   ]
  },
  {
   "cell_type": "code",
   "execution_count": 6,
   "metadata": {},
   "outputs": [
    {
     "name": "stdout",
     "output_type": "stream",
     "text": [
      "El substrint 'Emma' aparece 2 veces en:Emma is good developer. Emma is a writer\n"
     ]
    }
   ],
   "source": [
    "str_x = \"Emma is good developer. Emma is a writer\"\n",
    "word = \"Emma\"\n",
    "count = str_x.count(word)\n",
    "print(f\"El substrint '{word}' aparece {count} veces en:{str_x}\")"
   ]
  },
  {
   "cell_type": "markdown",
   "metadata": {},
   "source": [
    "## Exercise 8: Print the following pattern\n",
    "1 \\\n",
    "2 2\\\n",
    "3 3 3 \\\n",
    "4 4 4 4 \\\n",
    "5 5 5 5 5\n"
   ]
  },
  {
   "cell_type": "code",
   "execution_count": 20,
   "metadata": {},
   "outputs": [
    {
     "name": "stdout",
     "output_type": "stream",
     "text": [
      "1 \n",
      "2 2 \n",
      "3 3 3 \n",
      "4 4 4 4 \n",
      "5 5 5 5 5 \n"
     ]
    }
   ],
   "source": [
    "numero_filas = 5 \n",
    "for i in range(1, numero_filas + 1):\n",
    "    for j in range(1, i+1): \n",
    "        print(i, end=\" \")\n",
    "    print()"
   ]
  }
 ],
 "metadata": {
  "kernelspec": {
   "display_name": "env_python_beginners",
   "language": "python",
   "name": "python3"
  },
  "language_info": {
   "codemirror_mode": {
    "name": "ipython",
    "version": 3
   },
   "file_extension": ".py",
   "mimetype": "text/x-python",
   "name": "python",
   "nbconvert_exporter": "python",
   "pygments_lexer": "ipython3",
   "version": "3.11.5"
  }
 },
 "nbformat": 4,
 "nbformat_minor": 2
}
