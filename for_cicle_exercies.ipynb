{
 "cells": [
  {
   "cell_type": "markdown",
   "metadata": {},
   "source": [
    "## Ejercicio 1 \n",
    "Calcular la suma de los n primeros numeros naturales, teniendo en cuenta que los n numeros deben ser positivos"
   ]
  },
  {
   "cell_type": "code",
   "execution_count": 12,
   "metadata": {},
   "outputs": [
    {
     "name": "stdout",
     "output_type": "stream",
     "text": [
      "You should enter a possitive number\n"
     ]
    }
   ],
   "source": [
    "def sum_n_numbers(n): \n",
    "    if n >= 0: \n",
    "        ## imprimo hola las n veces\n",
    "        suma = 0\n",
    "        for i in range(1, n+1):\n",
    "            suma = suma + i \n",
    "            print(i)\n",
    "        print(\"la suma de los:\" , n, \"es: \" , suma)\n",
    "    else:\n",
    "        print(\"You should enter a possitive number\")\n",
    "\n",
    "n_naturales = int(input(\"Enter n natural numbers\"))\n",
    "sum_n_numbers(n_naturales)"
   ]
  },
  {
   "cell_type": "markdown",
   "metadata": {},
   "source": [
    "## Exercise 2\n",
    "Calcular la suma de los cuadrados de n primeros numeros naturales, teniendo en cuenta que los n numeros deben ser positivos"
   ]
  },
  {
   "cell_type": "code",
   "execution_count": 16,
   "metadata": {},
   "outputs": [
    {
     "name": "stdout",
     "output_type": "stream",
     "text": [
      "1   1 1\n",
      "2   4 5\n",
      "3   9 14\n",
      "4   16 30\n",
      "5   25 55\n",
      "6   36 91\n",
      "7   49 140\n",
      "8   64 204\n",
      "9   81 285\n",
      "10   100 385\n",
      "la suma de los: 10 es:  385\n"
     ]
    }
   ],
   "source": [
    "def sum_n_numbers(n): \n",
    "    if n >= 0: \n",
    "        cuadrado = 1\n",
    "        suma = 0\n",
    "        for i in range(1, n+1):\n",
    "            cuadrado = i**2\n",
    "            suma = suma + cuadrado\n",
    "            print(i, \" \", cuadrado, suma)\n",
    "        print(\"la suma de los:\" , n, \"es: \" , suma)\n",
    "    else:\n",
    "        print(\"You should enter a possitive number\")\n",
    "\n",
    "n_naturales = int(input(\"Enter n natural numbers\"))\n",
    "sum_n_numbers(n_naturales)"
   ]
  }
 ],
 "metadata": {
  "kernelspec": {
   "display_name": "base",
   "language": "python",
   "name": "python3"
  },
  "language_info": {
   "codemirror_mode": {
    "name": "ipython",
    "version": 3
   },
   "file_extension": ".py",
   "mimetype": "text/x-python",
   "name": "python",
   "nbconvert_exporter": "python",
   "pygments_lexer": "ipython3",
   "version": "3.11.5"
  }
 },
 "nbformat": 4,
 "nbformat_minor": 2
}
