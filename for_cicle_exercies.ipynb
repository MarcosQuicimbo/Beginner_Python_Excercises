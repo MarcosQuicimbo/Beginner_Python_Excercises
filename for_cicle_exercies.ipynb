{
 "cells": [
  {
   "cell_type": "markdown",
   "metadata": {},
   "source": [
    "## Ejercicio 1\n",
    "Calcular la suma de los cuadrados de los n primeros numeros teniendo en cuneta que los n numeors deben ser positivos"
   ]
  },
  {
   "cell_type": "code",
   "execution_count": 4,
   "metadata": {},
   "outputs": [
    {
     "name": "stdout",
     "output_type": "stream",
     "text": [
      "la suma de los  3 naturales es:  14\n",
      "la suma de los  3 naturales es: 14\n"
     ]
    }
   ],
   "source": [
    "n = int(input(\"Ingrese la cantidad de numeros naturales\"))\n",
    "while n <= 0:\n",
    "    print(n, \" debe ser positivo\")\n",
    "    n = int(input(\"Ingrese la cantidad de numeros naturales\"))\n",
    "suma = 0 \n",
    "for i in range(1, n + 1): #dentro del range pude haber 1,2,3\n",
    "    elevar_cuadrado = i ** 2\n",
    "    suma += elevar_cuadrado\n",
    "print(\"la suma de los \", n, \"naturales es: \", suma)\n",
    "print(\"la suma de los \", n, \"naturales es: \" + str(suma))\n",
    "\n",
    "\n",
    "\n"
   ]
  },
  {
   "cell_type": "markdown",
   "metadata": {},
   "source": [
    "## Ejercicio 2\n",
    "Calcular la suma de los cuadrados de todos lo n numeros enteros ingresados, la suma de los pares y la suma de los impares"
   ]
  },
  {
   "cell_type": "code",
   "execution_count": 6,
   "metadata": {},
   "outputs": [
    {
     "name": "stdout",
     "output_type": "stream",
     "text": [
      "\n",
      "la suma de los  3 naturales es:  14\n",
      "la suma de los pares:  4\n",
      "la sma de los impares:  10\n"
     ]
    }
   ],
   "source": [
    "def sum_natural_numbers(n):\n",
    "    while n <= 0:\n",
    "        print(n, \" debe ser positivo\")\n",
    "        n = int(input(\"Ingrese la cantidad de numeros naturales\"))\n",
    "    suma_n = 0 \n",
    "    sum_pairs = 0 \n",
    "    sum_odds = 0 \n",
    "    for i in range(1, n + 1): #dentro del range pude haber 1,2,3\n",
    "        elevar_cuadrado_n = i ** 2\n",
    "        suma_n += elevar_cuadrado_n\n",
    "        if i % 2 == 0: \n",
    "            elevar_cuadrado_pairs = i ** 2\n",
    "            sum_pairs += elevar_cuadrado_pairs\n",
    "            print(\"\")\n",
    "        else: \n",
    "            elevar_cuadrado_odds = i ** 2\n",
    "            sum_odds += elevar_cuadrado_odds\n",
    "    print(\"la suma de los \", n, \"naturales es: \", suma_n)\n",
    "    print(\"la suma de los pares: \", sum_pairs)\n",
    "    print(\"la sma de los impares: \", sum_odds)\n",
    "\n",
    "n = int(input(\"Ingrese la cantidad de numeros naturales\"))\n",
    "sum_natural_numbers(n)"
   ]
  },
  {
   "cell_type": "markdown",
   "metadata": {},
   "source": [
    "## Ejercicio 3\n",
    "Calclar el producto de todos los n numeros ingresados, el producto de los pares y el producto de los impares"
   ]
  },
  {
   "cell_type": "code",
   "execution_count": 24,
   "metadata": {},
   "outputs": [
    {
     "name": "stdout",
     "output_type": "stream",
     "text": [
      "producto total:  60\n",
      "producto pares:  4\n",
      "productos impares:  15\n"
     ]
    }
   ],
   "source": [
    "def producto(n): \n",
    "    if n <= 0: \n",
    "        print(\"Enter a positive number\")\n",
    "        return\n",
    "    producto_n = 1\n",
    "    producto_pairs = 1\n",
    "    producto_odds = 1\n",
    "    for i in range(n): \n",
    "        numero = int(input(f\"ingrese el numero{i}\"))\n",
    "        producto_n *= numero\n",
    "        if numero % 2 == 0: \n",
    "            producto_pairs *= numero\n",
    "        else: \n",
    "            producto_odds *= numero\n",
    "\n",
    "    print(\"producto total: \", producto_n)\n",
    "    print(\"producto pares: \", producto_pairs)\n",
    "    print(\"productos impares: \", producto_odds)\n",
    "\n",
    "\n",
    "cantidad_numeros = int(input(\"Ingrese la cantidad de numeros\"))\n",
    "producto(cantidad_numeros)"
   ]
  },
  {
   "cell_type": "markdown",
   "metadata": {},
   "source": [
    "## Ejercicio 4 \n",
    "Contar los divisiores de un numero y mostrarlo en pantalla"
   ]
  },
  {
   "cell_type": "code",
   "execution_count": 10,
   "metadata": {},
   "outputs": [
    {
     "data": {
      "text/plain": [
       "([1, 3], 2)"
      ]
     },
     "execution_count": 10,
     "metadata": {},
     "output_type": "execute_result"
    }
   ],
   "source": [
    "def divisores_numero(n):\n",
    "    arreglo = []\n",
    "    for i in range(1, n + 1):\n",
    "        if n % i == 0: \n",
    "            arreglo.append(i)\n",
    "    count_visisores = len(arreglo)\n",
    "    return arreglo, count_visisores\n",
    "\n",
    "numero = int(input(\"Ingrese un numero\"))\n",
    "divisores_numero(numero)"
   ]
  },
  {
   "cell_type": "code",
   "execution_count": 11,
   "metadata": {},
   "outputs": [
    {
     "data": {
      "text/plain": [
       "([1, 3], 2)"
      ]
     },
     "execution_count": 11,
     "metadata": {},
     "output_type": "execute_result"
    }
   ],
   "source": [
    "def divisores_numero(n):\n",
    "    arreglo = []\n",
    "    contador = 0 \n",
    "    for i in range(1, n + 1):\n",
    "        if n % i == 0: \n",
    "            arreglo.append(i)\n",
    "            contador += 1\n",
    "    return arreglo, contador\n",
    "\n",
    "numero = int(input(\"Ingrese un numero\"))\n",
    "divisores_numero(numero)"
   ]
  },
  {
   "cell_type": "markdown",
   "metadata": {},
   "source": [
    "## Ejercicio 5 \n",
    "Contar los votos de n personas y determinar si el ganador de 2 equipos de fultbol (Ec vs Ch)"
   ]
  },
  {
   "cell_type": "code",
   "execution_count": 2,
   "metadata": {},
   "outputs": [
    {
     "name": "stdout",
     "output_type": "stream",
     "text": [
      "Ec -> 1\n",
      "ch -> 2\n",
      "Votos Ecuador:  0\n",
      "Votos Chile..:  3\n"
     ]
    }
   ],
   "source": [
    "def contar_votos():\n",
    "    print(\"Ec -> 1\")\n",
    "    print(\"ch -> 2\")\n",
    "    votos_ecuador = 0 \n",
    "    votos_chile = 0 \n",
    "    n_votantes = int(input(\"Ingrese la cantidad de votantes\"))\n",
    "    for i in range(1, n_votantes + 1):\n",
    "        voto =  int(input(f\"Voto asistente: {i}\"))\n",
    "        while voto not in [1, 2]:\n",
    "            print(\"Error\")\n",
    "            voto =  input(f\"Voto asistente {i}: \")   \n",
    "        if voto == 1:\n",
    "            votos_ecuador += 1\n",
    "        elif voto == 2:\n",
    "            votos_chile += 1\n",
    "    print(\"Votos Ecuador: \", votos_ecuador)\n",
    "    print(\"Votos Chile..: \", votos_chile)\n",
    "\n",
    "contar_votos()\n",
    "\n",
    "\n",
    "\n",
    "    \n"
   ]
  },
  {
   "cell_type": "markdown",
   "metadata": {},
   "source": [
    "## Ejercicio 6\n",
    "Ingrese 4 notas, nostrarlos en una lista y calcular el promedio de forma manual"
   ]
  },
  {
   "cell_type": "code",
   "execution_count": 6,
   "metadata": {},
   "outputs": [
    {
     "name": "stdout",
     "output_type": "stream",
     "text": [
      "la nota ingresada es:  5\n",
      "la nota ingresada es:  10\n",
      "la nota ingresada es:  5\n",
      "promedio 6.666666666666667\n"
     ]
    }
   ],
   "source": [
    "#ingreso de notas \n",
    "numero_notas = int(input(\"Ingrese el numero de notas\"))\n",
    "notas = []\n",
    "for i in range(1, numero_notas + 1):\n",
    "    nota_i = int(input(f\"Ingrese la nota {i}\"))\n",
    "    #print(f\"la nota ingresada es {nota_i}\")\n",
    "    print(\"la nota ingresada es: \", nota_i)\n",
    "\n",
    "    notas.append(nota_i)\n",
    "#calculo el promedio \n",
    "suma = 0\n",
    "for i in notas:\n",
    "    suma += i\n",
    "promedio = suma / len(notas)\n",
    "print(\"promedio\", promedio)"
   ]
  }
 ],
 "metadata": {
  "kernelspec": {
   "display_name": "Python 3",
   "language": "python",
   "name": "python3"
  },
  "language_info": {
   "codemirror_mode": {
    "name": "ipython",
    "version": 3
   },
   "file_extension": ".py",
   "mimetype": "text/x-python",
   "name": "python",
   "nbconvert_exporter": "python",
   "pygments_lexer": "ipython3",
   "version": "3.11.5"
  }
 },
 "nbformat": 4,
 "nbformat_minor": 2
}
