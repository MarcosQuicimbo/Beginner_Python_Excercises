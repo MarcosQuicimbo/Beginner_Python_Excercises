{
 "cells": [
  {
   "cell_type": "markdown",
   "metadata": {},
   "source": [
    "## Ejercicio 1\n",
    "Calcular la suma de los cuadrados de los n primeros numeros teniendo en cuneta que los n numeors deben ser positivos"
   ]
  },
  {
   "cell_type": "code",
   "execution_count": 4,
   "metadata": {},
   "outputs": [
    {
     "name": "stdout",
     "output_type": "stream",
     "text": [
      "la suma de los  3 naturales es:  14\n",
      "la suma de los  3 naturales es: 14\n"
     ]
    }
   ],
   "source": [
    "n = int(input(\"Ingrese la cantidad de numeros naturales\"))\n",
    "while n <= 0:\n",
    "    print(n, \" debe ser positivo\")\n",
    "    n = int(input(\"Ingrese la cantidad de numeros naturales\"))\n",
    "suma = 0 \n",
    "for i in range(1, n + 1): #dentro del range pude haber 1,2,3\n",
    "    elevar_cuadrado = i ** 2\n",
    "    suma += elevar_cuadrado\n",
    "print(\"la suma de los \", n, \"naturales es: \", suma)\n",
    "print(\"la suma de los \", n, \"naturales es: \" + str(suma))\n",
    "\n",
    "\n",
    "\n"
   ]
  },
  {
   "cell_type": "markdown",
   "metadata": {},
   "source": [
    "## Ejercicio 2\n",
    "Calcular la suma de los cuadrados de todos lo n numeros enteros ingresados, la suma de los pares y la suma de los impares"
   ]
  },
  {
   "cell_type": "code",
   "execution_count": 6,
   "metadata": {},
   "outputs": [
    {
     "name": "stdout",
     "output_type": "stream",
     "text": [
      "\n",
      "la suma de los  3 naturales es:  14\n",
      "la suma de los pares:  4\n",
      "la sma de los impares:  10\n"
     ]
    }
   ],
   "source": [
    "def sum_natural_numbers(n):\n",
    "    while n <= 0:\n",
    "        print(n, \" debe ser positivo\")\n",
    "        n = int(input(\"Ingrese la cantidad de numeros naturales\"))\n",
    "    suma_n = 0 \n",
    "    sum_pairs = 0 \n",
    "    sum_odds = 0 \n",
    "    for i in range(1, n + 1): #dentro del range pude haber 1,2,3\n",
    "        elevar_cuadrado_n = i ** 2\n",
    "        suma_n += elevar_cuadrado_n\n",
    "        if i % 2 == 0: \n",
    "            elevar_cuadrado_pairs = i ** 2\n",
    "            sum_pairs += elevar_cuadrado_pairs\n",
    "            print(\"\")\n",
    "        else: \n",
    "            elevar_cuadrado_odds = i ** 2\n",
    "            sum_odds += elevar_cuadrado_odds\n",
    "    print(\"la suma de los \", n, \"naturales es: \", suma_n)\n",
    "    print(\"la suma de los pares: \", sum_pairs)\n",
    "    print(\"la sma de los impares: \", sum_odds)\n",
    "\n",
    "n = int(input(\"Ingrese la cantidad de numeros naturales\"))\n",
    "sum_natural_numbers(n)"
   ]
  },
  {
   "cell_type": "markdown",
   "metadata": {},
   "source": [
    "## Ejercicio 3\n",
    "Calclar el producto de todos los n numeros ingresados, el producto de los pares y el producto de los impares"
   ]
  },
  {
   "cell_type": "code",
   "execution_count": 24,
   "metadata": {},
   "outputs": [
    {
     "name": "stdout",
     "output_type": "stream",
     "text": [
      "producto total:  60\n",
      "producto pares:  4\n",
      "productos impares:  15\n"
     ]
    }
   ],
   "source": [
    "def producto(n): \n",
    "    if n <= 0: \n",
    "        print(\"Enter a positive number\")\n",
    "        return\n",
    "    producto_n = 1\n",
    "    producto_pairs = 1\n",
    "    producto_odds = 1\n",
    "    for i in range(n): \n",
    "        numero = int(input(f\"ingrese el numero{i}\"))\n",
    "        producto_n *= numero\n",
    "        if numero % 2 == 0: \n",
    "            producto_pairs *= numero\n",
    "        else: \n",
    "            producto_odds *= numero\n",
    "\n",
    "    print(\"producto total: \", producto_n)\n",
    "    print(\"producto pares: \", producto_pairs)\n",
    "    print(\"productos impares: \", producto_odds)\n",
    "\n",
    "\n",
    "cantidad_numeros = int(input(\"Ingrese la cantidad de numeros\"))\n",
    "producto(cantidad_numeros)"
   ]
  },
  {
   "cell_type": "markdown",
   "metadata": {},
   "source": [
    "## Ejercicio 4 \n",
    "Contar los divisiores de un numero y mostrarlo en pantalla"
   ]
  },
  {
   "cell_type": "code",
   "execution_count": 10,
   "metadata": {},
   "outputs": [
    {
     "data": {
      "text/plain": [
       "([1, 3], 2)"
      ]
     },
     "execution_count": 10,
     "metadata": {},
     "output_type": "execute_result"
    }
   ],
   "source": [
    "def divisores_numero(n):\n",
    "    arreglo = []\n",
    "    for i in range(1, n + 1):\n",
    "        if n % i == 0: \n",
    "            arreglo.append(i)\n",
    "    count_visisores = len(arreglo)\n",
    "    return arreglo, count_visisores\n",
    "\n",
    "numero = int(input(\"Ingrese un numero\"))\n",
    "divisores_numero(numero)"
   ]
  },
  {
   "cell_type": "code",
   "execution_count": 11,
   "metadata": {},
   "outputs": [
    {
     "data": {
      "text/plain": [
       "([1, 3], 2)"
      ]
     },
     "execution_count": 11,
     "metadata": {},
     "output_type": "execute_result"
    }
   ],
   "source": [
    "def divisores_numero(n):\n",
    "    arreglo = []\n",
    "    contador = 0 \n",
    "    for i in range(1, n + 1):\n",
    "        if n % i == 0: \n",
    "            arreglo.append(i)\n",
    "            contador += 1\n",
    "    return arreglo, contador\n",
    "\n",
    "numero = int(input(\"Ingrese un numero\"))\n",
    "divisores_numero(numero)"
   ]
  },
  {
   "cell_type": "markdown",
   "metadata": {},
   "source": [
    "## Ejercicio 5 \n",
    "Contar los votos de n personas y determinar si el ganador de 2 equipos de fultbol (Ec vs Ch)"
   ]
  },
  {
   "cell_type": "code",
   "execution_count": 2,
   "metadata": {},
   "outputs": [
    {
     "name": "stdout",
     "output_type": "stream",
     "text": [
      "Ec -> 1\n",
      "ch -> 2\n",
      "Votos Ecuador:  0\n",
      "Votos Chile..:  3\n"
     ]
    }
   ],
   "source": [
    "def contar_votos():\n",
    "    print(\"Ec -> 1\")\n",
    "    print(\"ch -> 2\")\n",
    "    votos_ecuador = 0 \n",
    "    votos_chile = 0 \n",
    "    n_votantes = int(input(\"Ingrese la cantidad de votantes\"))\n",
    "    for i in range(1, n_votantes + 1):\n",
    "        voto =  int(input(f\"Voto asistente: {i}\"))\n",
    "        while voto not in [1, 2]:\n",
    "            print(\"Error\")\n",
    "            voto =  input(f\"Voto asistente {i}: \")   \n",
    "        if voto == 1:\n",
    "            votos_ecuador += 1\n",
    "        elif voto == 2:\n",
    "            votos_chile += 1\n",
    "    print(\"Votos Ecuador: \", votos_ecuador)\n",
    "    print(\"Votos Chile..: \", votos_chile)\n",
    "\n",
    "contar_votos()\n",
    "\n",
    "\n",
    "\n",
    "    \n"
   ]
  },
  {
   "cell_type": "markdown",
   "metadata": {},
   "source": [
    "## Ejercicio 6\n",
    "Ingrese 4 notas, nostrarlos en una lista y calcular el promedio de forma manual"
   ]
  },
  {
   "cell_type": "code",
   "execution_count": 6,
   "metadata": {},
   "outputs": [
    {
     "name": "stdout",
     "output_type": "stream",
     "text": [
      "la nota ingresada es:  5\n",
      "la nota ingresada es:  10\n",
      "la nota ingresada es:  5\n",
      "promedio 6.666666666666667\n"
     ]
    }
   ],
   "source": [
    "#ingreso de notas \n",
    "numero_notas = int(input(\"Ingrese el numero de notas\"))\n",
    "notas = []\n",
    "for i in range(1, numero_notas + 1):\n",
    "    nota_i = int(input(f\"Ingrese la nota {i}\"))\n",
    "    #print(f\"la nota ingresada es {nota_i}\")\n",
    "    print(\"la nota ingresada es: \", nota_i)\n",
    "\n",
    "    notas.append(nota_i)\n",
    "#calculo el promedio \n",
    "suma = 0\n",
    "for i in notas:\n",
    "    suma += i\n",
    "promedio = suma / len(notas)\n",
    "print(\"promedio\", promedio)"
   ]
  },
  {
   "cell_type": "markdown",
   "metadata": {},
   "source": [
    "## Ejercicio 7 \n",
    "Ingresar N notas, mostrarlos en una lista y calular el producto de todos sus valores"
   ]
  },
  {
   "cell_type": "code",
   "execution_count": 5,
   "metadata": {},
   "outputs": [
    {
     "name": "stdout",
     "output_type": "stream",
     "text": [
      "[3, 2, 8, 2]\n"
     ]
    },
    {
     "data": {
      "text/plain": [
       "96"
      ]
     },
     "execution_count": 5,
     "metadata": {},
     "output_type": "execute_result"
    }
   ],
   "source": [
    "amount_grades = int(input(\"Enter how many grades you have\"))\n",
    "grades = [] \n",
    "for i in range(amount_grades):\n",
    "    grade_i = int(input(f\"Enter the {i+1} grade\"))\n",
    "    grades.append(grade_i)\n",
    "print(grades)\n",
    "\n",
    "def product_grades(array_grades):\n",
    "    producto_grades = 1\n",
    "    for grade in array_grades:\n",
    "        producto_grades *= grade\n",
    "    return producto_grades\n",
    "\n",
    "product_grades(grades)"
   ]
  },
  {
   "cell_type": "markdown",
   "metadata": {},
   "source": [
    "## Ejercicio 8\n",
    "Ingresar N notas, mostrar en listas los numeros pares de forma ascendente y numeros impares de forma descendente"
   ]
  },
  {
   "cell_type": "code",
   "execution_count": 7,
   "metadata": {},
   "outputs": [
    {
     "name": "stdout",
     "output_type": "stream",
     "text": [
      "notas pares ascendente [2, 2, 4, 8, 10]\n",
      "notas impares descente [9, 7, 3, 3, 1]\n"
     ]
    }
   ],
   "source": [
    "def cantidad_notas():\n",
    "    numero_notas = int(input(\"Ingresa la cantidad de notas\"))\n",
    "    return numero_notas\n",
    "\n",
    "def ingreso_notas(numero_notas):\n",
    "    notas_ingresadas = []\n",
    "    for i in range(numero_notas):\n",
    "        nota_ingredada = int(input(f\"Ingresa la nota {i+1}\"))\n",
    "        notas_ingresadas.append(nota_ingredada)\n",
    "    return notas_ingresadas\n",
    "\n",
    "def pair_odds_grades (notas_ingresadas):\n",
    "    notas_pares = []\n",
    "    notas_impares = []\n",
    "    for i in notas_ingresadas:\n",
    "        if i % 2 == 0: \n",
    "            notas_pares.append(i)\n",
    "        else:\n",
    "            notas_impares.append(i)\n",
    "    return notas_impares, notas_pares\n",
    "\n",
    "def sort_grades (notas_pares, notas_impares):\n",
    "    notas_pares.sort()\n",
    "    notas_impares.sort(reverse=True)\n",
    "    return notas_pares, notas_impares\n",
    "\n",
    "numero_notas = cantidad_notas()\n",
    "notas_ingresadas = ingreso_notas(numero_notas)\n",
    "notas_impares, notas_pares = pair_odds_grades(notas_ingresadas)\n",
    "notas_pares_ascendente, notas_impares_descendente = sort_grades(notas_pares, notas_impares)\n",
    "\n",
    "print(\"notas pares ascendente\", notas_pares_ascendente)\n",
    "print(\"notas impares descente\", notas_impares_descendente)"
   ]
  },
  {
   "cell_type": "markdown",
   "metadata": {},
   "source": [
    "## Ejercicio 9\n",
    "Ingresar N numeros, determinar los numeros primos con bucls for"
   ]
  },
  {
   "cell_type": "code",
   "execution_count": 18,
   "metadata": {},
   "outputs": [],
   "source": [
    "def cantidad_notas():\n",
    "    numero_notas = int(input(\"Ingresa la cantidad de notas\"))\n",
    "    return numero_notas\n",
    "\n",
    "def ingreso_notas(numero_notas):\n",
    "    notas_ingresadas = []\n",
    "    for i in range(numero_notas):\n",
    "        nota_ingredada = int(input(f\"Ingresa la nota {i+1}\"))\n",
    "        notas_ingresadas.append(nota_ingredada)\n",
    "    return notas_ingresadas\n",
    "\n",
    "def primo (lista_numeros):\n",
    "    #contador_divisores = 0 \n",
    "    primos = []\n",
    "    for i in lista_numeros: \n",
    "        contador_divisores = 0\n",
    "        for j in range(1,i+1):\n",
    "            if i % j == 0:\n",
    "                contador_divisores += 1\n",
    "        if contador_divisores <= 2:\n",
    "                primos.append(i)\n",
    "    return primos\n",
    "\n",
    "cantidad_de_numeros = cantidad_notas()\n",
    "numeros_ingresados = ingreso_notas(cantidad_de_numeros)\n",
    "primos = primo(numeros_ingresados)\n",
    "\n",
    "\n",
    "\n"
   ]
  },
  {
   "cell_type": "code",
   "execution_count": 19,
   "metadata": {},
   "outputs": [
    {
     "data": {
      "text/plain": [
       "[3, 17]"
      ]
     },
     "execution_count": 19,
     "metadata": {},
     "output_type": "execute_result"
    }
   ],
   "source": [
    "primos"
   ]
  },
  {
   "cell_type": "code",
   "execution_count": null,
   "metadata": {},
   "outputs": [],
   "source": [
    "numeros_ingresados"
   ]
  },
  {
   "cell_type": "markdown",
   "metadata": {},
   "source": [
    "## Ejercicio 10 \n",
    "Ingresar un numero y determinar si es un numero primo o no "
   ]
  },
  {
   "cell_type": "code",
   "execution_count": 7,
   "metadata": {},
   "outputs": [
    {
     "name": "stdout",
     "output_type": "stream",
     "text": [
      "False\n"
     ]
    }
   ],
   "source": [
    "def enter_number(): \n",
    "    digited_number = int(input(\"Enter a number, whatever you want\"))\n",
    "    return digited_number\n",
    "\n",
    "def es_primo(number):\n",
    "    primo = False\n",
    "    for i in range(1, number+1):\n",
    "        contador_divisible = 0\n",
    "        for j in range(1, i + 1):\n",
    "            if i % j == 0: \n",
    "                contador_divisible += 1\n",
    "        if contador_divisible <=2: \n",
    "            primo = True\n",
    "        else:\n",
    "            primo = False\n",
    "    return primo\n",
    "\n",
    "numero_ingredado = enter_number()\n",
    "primo = print(es_primo(numero_ingredado))\n"
   ]
  },
  {
   "cell_type": "markdown",
   "metadata": {},
   "source": [
    "## Ejercicio 11\n",
    "Determinar el mayor de N valores ingresados"
   ]
  },
  {
   "cell_type": "code",
   "execution_count": 20,
   "metadata": {},
   "outputs": [
    {
     "name": "stdout",
     "output_type": "stream",
     "text": [
      "9\n"
     ]
    }
   ],
   "source": [
    "def cantidad_numeros():\n",
    "    numero_notas = int(input(\"Ingresa la cantidad de numeros\"))\n",
    "    return numero_notas\n",
    "\n",
    "def ingreso_numeros(numero_notas):\n",
    "    notas_ingresadas = []\n",
    "    for i in range(numero_notas):\n",
    "        nota_ingredada = int(input(f\"Ingresa la nota {i+1}\"))\n",
    "        notas_ingresadas.append(nota_ingredada)\n",
    "    return notas_ingresadas\n",
    "\n",
    "def menor_numero(array_numeros):\n",
    "    numero_mayor = array_numeros[0]\n",
    "    for i in array_numeros:\n",
    "        #numero_mayor = array_numeros[i-1]\n",
    "        if i > numero_mayor:\n",
    "            numero_mayor = i \n",
    "    return numero_mayor\n",
    "\n",
    "cantidad_de_numeros = cantidad_numeros()\n",
    "ingreso_numeros = ingreso_numeros(cantidad_de_numeros)\n",
    "menor_numero = print(menor_numero(ingreso_numeros))\n"
   ]
  },
  {
   "cell_type": "code",
   "execution_count": 19,
   "metadata": {},
   "outputs": [
    {
     "name": "stdout",
     "output_type": "stream",
     "text": [
      "1\n"
     ]
    }
   ],
   "source": [
    "array = [1,2,3,4,5]\n",
    "print(array[0])"
   ]
  },
  {
   "cell_type": "markdown",
   "metadata": {},
   "source": [
    "## Ejercicio 12\n",
    "Determinar el menor numero de N valores ingresados utilizando el bucle for"
   ]
  },
  {
   "cell_type": "code",
   "execution_count": 2,
   "metadata": {},
   "outputs": [
    {
     "name": "stdout",
     "output_type": "stream",
     "text": [
      "1\n"
     ]
    }
   ],
   "source": [
    "def cantidad_numeros():\n",
    "    numero_notas = int(input(\"Ingresa la cantidad de numeros\"))\n",
    "    return numero_notas\n",
    "\n",
    "def ingreso_numeros(numero_notas):\n",
    "    notas_ingresadas = []\n",
    "    for i in range(numero_notas):\n",
    "        nota_ingredada = int(input(f\"Ingresa la nota {i+1}\"))\n",
    "        notas_ingresadas.append(nota_ingredada)\n",
    "    return notas_ingresadas\n",
    "\n",
    "def menor_numero(array_numeros):\n",
    "    numero_menor = array_numeros[0]\n",
    "    for i in array_numeros:\n",
    "        #numero_mayor = array_numeros[i-1]\n",
    "        if i < numero_menor:\n",
    "            numero_menor = i \n",
    "    return numero_menor\n",
    "\n",
    "cantidad_de_numeros = cantidad_numeros()\n",
    "ingreso_numeros = ingreso_numeros(cantidad_de_numeros)\n",
    "menor_numero = print(menor_numero(ingreso_numeros))\n"
   ]
  },
  {
   "cell_type": "markdown",
   "metadata": {},
   "source": [
    "## Ejercicio 13 \n",
    "Calcular el factorial de un numero , utilizando el bucle for "
   ]
  },
  {
   "cell_type": "code",
   "execution_count": 15,
   "metadata": {},
   "outputs": [
    {
     "name": "stdout",
     "output_type": "stream",
     "text": [
      "120\n"
     ]
    }
   ],
   "source": [
    "def numero_calcular_factorial():\n",
    "    numero = int(input(\"Ingresa el numero para calcular el factorial\"))\n",
    "    return numero\n",
    "\n",
    "def calcular_factorial(numero):\n",
    "    producto = 1\n",
    "    #for i in range(numero+1, 1):\n",
    "    for i in range(1,numero + 1):\n",
    "        producto *= i\n",
    "    return producto \n",
    "\n",
    "numero_para_calcular = numero_calcular_factorial()\n",
    "factorial = calcular_factorial(numero_para_calcular)\n",
    "print(factorial)\n"
   ]
  },
  {
   "cell_type": "code",
   "execution_count": null,
   "metadata": {},
   "outputs": [],
   "source": []
  },
  {
   "cell_type": "code",
   "execution_count": 12,
   "metadata": {},
   "outputs": [],
   "source": [
    "def calcular_factorial(n):\n",
    "    producto = 1\n",
    "    #for i in range(numero+1, 1):\n",
    "    for i in range(n,1,-1):\n",
    "        producto *= i\n",
    "    return producto "
   ]
  },
  {
   "cell_type": "code",
   "execution_count": 11,
   "metadata": {},
   "outputs": [
    {
     "name": "stdout",
     "output_type": "stream",
     "text": [
      "6\n"
     ]
    }
   ],
   "source": [
    "print(calcular_factorial(3))"
   ]
  },
  {
   "cell_type": "markdown",
   "metadata": {},
   "source": [
    "4! = 4*3!\n",
    "3! = 3*(3-1)!"
   ]
  },
  {
   "cell_type": "markdown",
   "metadata": {},
   "source": [
    "## Ejercicio 14 \n",
    "Escribir una frase y contar la cantidad de vocales aparece en dicha frase"
   ]
  },
  {
   "cell_type": "code",
   "execution_count": 2,
   "metadata": {},
   "outputs": [
    {
     "name": "stdout",
     "output_type": "stream",
     "text": [
      "4\n"
     ]
    }
   ],
   "source": [
    "def ingresar_frase():\n",
    "    frase = input(\"Enter a phrase\")\n",
    "    return frase\n",
    "\n",
    "def count_vowels_phrase(phrase):\n",
    "    phrase = phrase.lower()\n",
    "    contador_vocales = 0\n",
    "    vocales = ['a', 'e', 'i', 'o', 'u']\n",
    "    for i in phrase:\n",
    "        if i in vocales:\n",
    "            contador_vocales += 1\n",
    "    return contador_vocales\n",
    "\n",
    "input_frase = ingresar_frase()\n",
    "vowels_phrase = count_vowels_phrase(input_frase)\n",
    "print(vowels_phrase)"
   ]
  },
  {
   "cell_type": "markdown",
   "metadata": {},
   "source": [
    "## Ejercicio 15\n",
    "Mostrar en pantalla los anos bisiestos encontrados entre un intervalo de anos "
   ]
  },
  {
   "cell_type": "code",
   "execution_count": 20,
   "metadata": {},
   "outputs": [
    {
     "name": "stdout",
     "output_type": "stream",
     "text": [
      "False\n"
     ]
    }
   ],
   "source": [
    "def rango_anios():\n",
    "    year_1 = int(input('Enter year 1'))\n",
    "    return year_1\n",
    "    \n",
    "def anios_bisiesto(anio_1):\n",
    "    bandera = False\n",
    "    if anio_1 % 4 == 0: # regla 1: divisible por 4\n",
    "        if anio_1 % 100 == 0:  # regla 2: divisible por 100\n",
    "            print(\"No bisiesto\") \n",
    "            if anio_1 % 400 == 0:  # regal 3: divisisble para 400\n",
    "                print(\"bisiesto\")\n",
    "                bandera = True\n",
    "            else:\n",
    "                bandera = False\n",
    "        else:\n",
    "            bandera = True\n",
    "    return bandera\n",
    "\n",
    "anio_ingreso = rango_anios()\n",
    "es_bisiesto = anios_bisiesto(anio_ingreso)\n",
    "print(es_bisiesto)\n",
    "    "
   ]
   "outputs": [],
   "source": []
  }
 ],
 "metadata": {
  "kernelspec": {
   "display_name": "Python 3",
   "language": "python",
   "name": "python3"
  },
  "language_info": {
   "codemirror_mode": {
    "name": "ipython",
    "version": 3
   },
   "file_extension": ".py",
   "mimetype": "text/x-python",
   "name": "python",
   "nbconvert_exporter": "python",
   "pygments_lexer": "ipython3",
   "version": "3.11.5"
  }
 },
 "nbformat": 4,
 "nbformat_minor": 2
}
