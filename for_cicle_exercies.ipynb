{
 "cells": [
  {
   "cell_type": "markdown",
   "metadata": {},
   "source": [
    "## Ejercicio 1\n",
    "Calcular la suma de los cuadrados de los n primeros numeros teniendo en cuneta que los n numeors deben ser positivos"
   ]
  },
  {
   "cell_type": "code",
   "execution_count": 4,
   "metadata": {},
   "outputs": [
    {
     "name": "stdout",
     "output_type": "stream",
     "text": [
      "la suma de los  3 naturales es:  14\n",
      "la suma de los  3 naturales es: 14\n"
     ]
    }
   ],
   "source": [
    "n = int(input(\"Ingrese la cantidad de numeros naturales\"))\n",
    "while n <= 0:\n",
    "    print(n, \" debe ser positivo\")\n",
    "    n = int(input(\"Ingrese la cantidad de numeros naturales\"))\n",
    "suma = 0 \n",
    "for i in range(1, n + 1): #dentro del range pude haber 1,2,3\n",
    "    elevar_cuadrado = i ** 2\n",
    "    suma += elevar_cuadrado\n",
    "print(\"la suma de los \", n, \"naturales es: \", suma)\n",
    "print(\"la suma de los \", n, \"naturales es: \" + str(suma))\n",
    "\n",
    "\n",
    "\n"
   ]
  },
  {
   "cell_type": "markdown",
   "metadata": {},
   "source": [
    "## Ejercicio 2\n",
    "Calcular la suma de los cuadrados de todos lo n numeros enteros ingresados, la suma de los pares y la suma de los impares"
   ]
  },
  {
   "cell_type": "code",
   "execution_count": 6,
   "metadata": {},
   "outputs": [
    {
     "name": "stdout",
     "output_type": "stream",
     "text": [
      "\n",
      "la suma de los  3 naturales es:  14\n",
      "la suma de los pares:  4\n",
      "la sma de los impares:  10\n"
     ]
    }
   ],
   "source": [
    "def sum_natural_numbers(n):\n",
    "    while n <= 0:\n",
    "        print(n, \" debe ser positivo\")\n",
    "        n = int(input(\"Ingrese la cantidad de numeros naturales\"))\n",
    "    suma_n = 0 \n",
    "    sum_pairs = 0 \n",
    "    sum_odds = 0 \n",
    "    for i in range(1, n + 1): #dentro del range pude haber 1,2,3\n",
    "        elevar_cuadrado_n = i ** 2\n",
    "        suma_n += elevar_cuadrado_n\n",
    "        if i % 2 == 0: \n",
    "            elevar_cuadrado_pairs = i ** 2\n",
    "            sum_pairs += elevar_cuadrado_pairs\n",
    "            print(\"\")\n",
    "        else: \n",
    "            elevar_cuadrado_odds = i ** 2\n",
    "            sum_odds += elevar_cuadrado_odds\n",
    "    print(\"la suma de los \", n, \"naturales es: \", suma_n)\n",
    "    print(\"la suma de los pares: \", sum_pairs)\n",
    "    print(\"la sma de los impares: \", sum_odds)\n",
    "\n",
    "n = int(input(\"Ingrese la cantidad de numeros naturales\"))\n",
    "sum_natural_numbers(n)"
   ]
  },
  {
   "cell_type": "markdown",
   "metadata": {},
   "source": [
    "## Ejercicio 3\n",
    "Calclar el producto de todos los n numeros ingresados, el producto de los pares y el producto de los impares"
   ]
  },
  {
   "cell_type": "code",
   "execution_count": 24,
   "metadata": {},
   "outputs": [
    {
     "name": "stdout",
     "output_type": "stream",
     "text": [
      "producto total:  60\n",
      "producto pares:  4\n",
      "productos impares:  15\n"
     ]
    }
   ],
   "source": [
    "def producto(n): \n",
    "    if n <= 0: \n",
    "        print(\"Enter a positive number\")\n",
    "        return\n",
    "    producto_n = 1\n",
    "    producto_pairs = 1\n",
    "    producto_odds = 1\n",
    "    for i in range(n): \n",
    "        numero = int(input(f\"ingrese el numero{i}\"))\n",
    "        producto_n *= numero\n",
    "        if numero % 2 == 0: \n",
    "            producto_pairs *= numero\n",
    "        else: \n",
    "            producto_odds *= numero\n",
    "\n",
    "    print(\"producto total: \", producto_n)\n",
    "    print(\"producto pares: \", producto_pairs)\n",
    "    print(\"productos impares: \", producto_odds)\n",
    "\n",
    "\n",
    "cantidad_numeros = int(input(\"Ingrese la cantidad de numeros\"))\n",
    "producto(cantidad_numeros)"
   ]
  }
 ],
 "metadata": {
  "kernelspec": {
   "display_name": "Python 3",
   "language": "python",
   "name": "python3"
  },
  "language_info": {
   "codemirror_mode": {
    "name": "ipython",
    "version": 3
   },
   "file_extension": ".py",
   "mimetype": "text/x-python",
   "name": "python",
   "nbconvert_exporter": "python",
   "pygments_lexer": "ipython3",
   "version": "3.12.1"
  }
 },
 "nbformat": 4,
 "nbformat_minor": 2
}
